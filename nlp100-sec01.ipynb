{
 "cells": [
  {
   "cell_type": "code",
   "execution_count": 2,
   "metadata": {},
   "outputs": [
    {
     "name": "stdout",
     "output_type": "stream",
     "text": [
      "desserts\n"
     ]
    }
   ],
   "source": [
    "# 00. 文字列の逆順\n",
    "s = \"stressed\"\n",
    "print(s[::-1])"
   ]
  },
  {
   "cell_type": "code",
   "execution_count": 9,
   "metadata": {},
   "outputs": [
    {
     "name": "stdout",
     "output_type": "stream",
     "text": [
      "パトカー\n"
     ]
    }
   ],
   "source": [
    "# 02.「パタトクカシーー」\n",
    "\n",
    "s = \"パタトクカシーー\"\n",
    "print(s[0::2])"
   ]
  },
  {
   "cell_type": "code",
   "execution_count": 14,
   "metadata": {},
   "outputs": [
    {
     "name": "stdout",
     "output_type": "stream",
     "text": [
      "パタトクカシーー\n"
     ]
    }
   ],
   "source": [
    "# 02. 「パトカー」＋「タクシー」＝「パタトクカシーー」\n",
    "s = \"パトカー\"\n",
    "t = \"タクシー\"\n",
    "print(\"\".join(x+y for x,y in zip(s, t)))"
   ]
  },
  {
   "cell_type": "code",
   "execution_count": 8,
   "metadata": {},
   "outputs": [
    {
     "name": "stdout",
     "output_type": "stream",
     "text": [
      "[3, 1, 4, 1, 6, 9, 2, 7, 5, 3, 5, 8, 9, 7, 10]\n"
     ]
    }
   ],
   "source": [
    "# 03. 円周率\n",
    "s = \"Now I need a drink, alcoholic of course, after the heavy lectures involving quantum mechanics.\"\n",
    "print(list(map(len, s.split())))"
   ]
  },
  {
   "cell_type": "code",
   "execution_count": 18,
   "metadata": {},
   "outputs": [
    {
     "name": "stdout",
     "output_type": "stream",
     "text": [
      "{1: 'H', 2: 'He', 3: 'Li', 4: 'Be', 5: 'B', 6: 'C', 7: 'N', 8: 'O', 9: 'F', 10: 'Ne', 11: 'Na', 12: 'Mi', 13: 'Al', 14: 'Si', 15: 'P', 16: 'S', 17: 'Cl', 18: 'Ar', 19: 'K', 20: 'Ca'}\n"
     ]
    }
   ],
   "source": [
    "# 04. 元素記号\n",
    "s = \"Hi He Lied Because Boron Could Not Oxidize Fluorine. New Nations Might Also Sign Peace Security Clause. Arthur King Can.\"\n",
    "x = [1, 5, 6, 7, 8, 9, 15, 16, 19]\n",
    "d = {}\n",
    "for i, w in enumerate(s.split(), 1):\n",
    "    if i in x:\n",
    "        d[i] = w[0]\n",
    "    else:\n",
    "        d[i] = w[:2]\n",
    "print(d)"
   ]
  },
  {
   "cell_type": "code",
   "execution_count": 30,
   "metadata": {},
   "outputs": [
    {
     "name": "stdout",
     "output_type": "stream",
     "text": [
      "['I ', ' a', 'am', 'm ', ' a', 'an', 'n ', ' N', 'NL', 'LP', 'Pe', 'er']\n",
      "[['I', 'am'], ['am', 'an'], ['an', 'NLPer']]\n"
     ]
    }
   ],
   "source": [
    "# 05. n-gram\n",
    "def n_gram_char(sentence):\n",
    "    n_gram = [sentence[i:i+2] for i in range(len(sentence) - 1)]\n",
    "    return n_gram\n",
    "\n",
    "def n_gram_word(sentence):\n",
    "    words = sentence.split()\n",
    "    n_gram = [words[i:i+2] for i in range(len(words) - 1)]\n",
    "    return n_gram\n",
    "    \n",
    "    \n",
    "sentence = \"I am an NLPer\"\n",
    "print(n_gram_char(sentence))\n",
    "print(n_gram_word(sentence))"
   ]
  },
  {
   "cell_type": "code",
   "execution_count": 32,
   "metadata": {},
   "outputs": [
    {
     "name": "stdout",
     "output_type": "stream",
     "text": [
      "{'ad', 'ag', 'se', 'ar', 'di', 'ph', 'pa', 'is', 'ra', 'gr', 'ap'}\n",
      "{'pa', 'ar', 'ap', 'ra'}\n",
      "{'se', 'is', 'ad', 'di'}\n",
      "{'ph', 'ag', 'gr'}\n",
      "False\n"
     ]
    }
   ],
   "source": [
    "# 06. 集合\n",
    "s = \"paraparaparadise\"\n",
    "t = \"paragraph\"\n",
    "s_ng = set(n_gram_char(s))\n",
    "t_ng = set(n_gram_char(t))\n",
    "\n",
    "print(s_ng | t_ng)\n",
    "print(s_ng & t_ng)\n",
    "print(s_ng - t_ng)\n",
    "print(t_ng - s_ng)\n",
    "print(\"se\" in s_ng & t_ng)"
   ]
  },
  {
   "cell_type": "code",
   "execution_count": 36,
   "metadata": {},
   "outputs": [
    {
     "name": "stdout",
     "output_type": "stream",
     "text": [
      "I uicltj'd vslosbs dpwd I uiclt wudcwll_ cjtsfedwjt apwd I awe fswtojq : dps hpsjiksjwl hiasf ir dps pckwj kojt .\n"
     ]
    }
   ],
   "source": [
    "# 08. 暗号文\n",
    "def cipher(sentence):\n",
    "    code = \"\"\n",
    "    for c in sentence:\n",
    "        if 'a' <= c <= 'z':\n",
    "            code += chr(216 - ord(c))\n",
    "        else:\n",
    "            code += c\n",
    "    return code\n",
    "\n",
    "s = \"I couldn't believe that I could actually understand what I was reading : the phenomenal power of the human mind .\"\n",
    "print(cipher(s))"
   ]
  },
  {
   "cell_type": "code",
   "execution_count": 41,
   "metadata": {},
   "outputs": [
    {
     "name": "stdout",
     "output_type": "stream",
     "text": [
      "I cdo'unlt bvlieee that I could altucaly unaersndtd what I was raiendg : the pnneomaehl peowr of the hamun mind .\n"
     ]
    }
   ],
   "source": [
    "# 09. Typoglycemia\n",
    "import random\n",
    "\n",
    "s = \"I couldn't believe that I could actually understand what I was reading : the phenomenal power of the human mind .\"\n",
    "a = []\n",
    "for w in s.split():\n",
    "    if len(w) <= 4:\n",
    "        a.append(w)\n",
    "    else:\n",
    "        v = list(w[1:-1])\n",
    "        random.shuffle(v)\n",
    "        w = w[0] + \"\".join(v) + w[-1]\n",
    "        a.append(w)\n",
    "print(\" \".join(a))"
   ]
  }
 ],
 "metadata": {
  "kernelspec": {
   "display_name": "Python 3",
   "language": "python",
   "name": "python3"
  },
  "language_info": {
   "codemirror_mode": {
    "name": "ipython",
    "version": 3
   },
   "file_extension": ".py",
   "mimetype": "text/x-python",
   "name": "python",
   "nbconvert_exporter": "python",
   "pygments_lexer": "ipython3",
   "version": "3.5.2"
  },
  "toc": {
   "colors": {
    "hover_highlight": "#DAA520",
    "running_highlight": "#FF0000",
    "selected_highlight": "#FFD700"
   },
   "moveMenuLeft": true,
   "nav_menu": {
    "height": "12px",
    "width": "252px"
   },
   "navigate_menu": true,
   "number_sections": true,
   "sideBar": true,
   "threshold": 4,
   "toc_cell": false,
   "toc_section_display": "block",
   "toc_window_display": false,
   "widenNotebook": false
  }
 },
 "nbformat": 4,
 "nbformat_minor": 2
}
